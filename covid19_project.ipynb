{
 "cells": [
  {
   "cell_type": "markdown",
   "id": "b5a22364",
   "metadata": {},
   "source": [
    "TODO:\n",
    "MLP\n",
    "○ Data analysis\n",
    "○ Data preprocessing and normalization\n",
    "○ Data split\n",
    "○ Configuration\n",
    "○ Experiment tracking\n",
    "○ Experiments - meaningful based on the results of previous experiments\n",
    "    ■ Including improvement techniques (e.g. Dropout, Normalization layers, Skip\n",
    "    Connections, Bottleneck Layers, …)\n",
    "○ Hyperparameter search (grid/random) / sweep     #optional\n",
    "○ Results and evaluation metrics\n",
    "○ Clear code\n",
    "○ Markdown documentation and comments\n",
    "○ Final presentation of projects\n",
    "○ Effort on consultations\n",
    "\n",
    "\n",
    "OUR TODO:\n",
    "download dataset using pandas ? easier because of we can just use link but maybe everyone will use pandas \n",
    "good enough data analysis that is seen in jupyter notebook, not just from reading dataset\n",
    "correlation chart  -  chart of correlation of columns between themselves"
   ]
  },
  {
   "cell_type": "markdown",
   "id": "33414dc8",
   "metadata": {},
   "source": [
    "imports"
   ]
  },
  {
   "cell_type": "code",
   "execution_count": null,
   "id": "496cdd58",
   "metadata": {},
   "outputs": [],
   "source": [
    "import torch"
   ]
  },
  {
   "cell_type": "markdown",
   "id": "bf85c169",
   "metadata": {},
   "source": [
    "dataset"
   ]
  },
  {
   "cell_type": "code",
   "execution_count": null,
   "id": "46e5e6d7",
   "metadata": {},
   "outputs": [],
   "source": [
    "print(\"dataset imported\")"
   ]
  },
  {
   "cell_type": "markdown",
   "id": "3799558c",
   "metadata": {},
   "source": [
    "data analysis with nice graphs and chart of correlations"
   ]
  },
  {
   "cell_type": "code",
   "execution_count": null,
   "id": "9a29e802",
   "metadata": {},
   "outputs": [],
   "source": [
    "print(\"nice graphs\")"
   ]
  },
  {
   "cell_type": "markdown",
   "id": "8c610075",
   "metadata": {},
   "source": [
    "data preprocessing and normalization"
   ]
  }
 ],
 "metadata": {
  "language_info": {
   "name": "python"
  }
 },
 "nbformat": 4,
 "nbformat_minor": 5
}
