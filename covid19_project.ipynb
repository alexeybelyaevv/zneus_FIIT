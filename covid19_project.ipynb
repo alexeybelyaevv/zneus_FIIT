{
 "cells": [
  {
   "cell_type": "markdown",
   "id": "b5a22364",
   "metadata": {},
   "source": [
    "# TODO:\n",
    "MLP\n",
    "- Data analysis\n",
    "- Data preprocessing and normalization\n",
    "- Data split\n",
    "- Configuration\n",
    "- Experiment tracking\n",
    "- Experiments - meaningful based on the results of previous experiments\n",
    "    - Including improvement techniques (e.g. Dropout, Normalization layers, Skip\n",
    "    Connections, Bottleneck Layers, …)\n",
    "- Hyperparameter search (grid/random) / sweep     #optional\n",
    "- Results and evaluation metrics\n",
    "- Clear code\n",
    "- Markdown documentation and comments\n",
    "- Final presentation of projects\n",
    "- Effort on consultations\n",
    "\n",
    "\n",
    "# OUR TODO:\n",
    "- download dataset using pandas ? easier because of we can just use link but maybe everyone will use pandas \n",
    "- good enough data analysis that is seen in jupyter notebook, not just from reading dataset\n",
    "- correlation chart  -  chart of correlation of columns between themselves\n",
    "- outliers - what to do with them ? \n",
    "- counts of data in each column and plots of them "
   ]
  },
  {
   "cell_type": "markdown",
   "id": "33414dc8",
   "metadata": {},
   "source": [
    "imports"
   ]
  },
  {
   "cell_type": "code",
   "execution_count": null,
   "id": "496cdd58",
   "metadata": {},
   "outputs": [],
   "source": [
    "import matplotlib.pyplot as plt\n",
    "import seaborn as sns\n",
    "import pandas as pd\n",
    "import pandas as pd"
   ]
  },
  {
   "cell_type": "markdown",
   "id": "bf85c169",
   "metadata": {},
   "source": [
    "# Dataset"
   ]
  },
  {
   "cell_type": "code",
   "execution_count": null,
   "id": "46e5e6d7",
   "metadata": {},
   "outputs": [],
   "source": [
    "\n",
    "\n",
    "df = pd.read_csv(\"dataset.csv\")\n",
    "\n",
    "print(\"Shape of dataset:\", df.shape)\n",
    "display(df.head())\n",
    "\n",
    "numeric_df = df.select_dtypes(include=[\"number\"])"
   ]
  },
  {
   "cell_type": "markdown",
   "id": "3799558c",
   "metadata": {},
   "source": [
    "# Data analysis with nice graphs and chart of correlations"
   ]
  },
  {
   "cell_type": "code",
   "execution_count": null,
   "id": "9a29e802",
   "metadata": {},
   "outputs": [],
   "source": [
    "\n",
    "# if numeric_df.empty:\n",
    "#     print(\"No number attrs for boxplot.\")\n",
    "# else:\n",
    "#     plt.figure(figsize=(12, 6))\n",
    "#     sns.boxplot(data=numeric_df, orient=\"h\", palette=\"Set2\")\n",
    "#     plt.title(\"Boxplot for all number attributes\")\n",
    "#     plt.xlabel(\"Values\")\n",
    "#     plt.ylabel(\"Attributes\")\n",
    "#     plt.tight_layout()\n",
    "#     plt.show()\n",
    "\n",
    "df.info()\n",
    "\n",
    "df.count(numeric_only=True)\n"
   ]
  },
  {
   "cell_type": "code",
   "execution_count": null,
   "id": "9fefac80",
   "metadata": {},
   "outputs": [],
   "source": [
    "\n",
    "corr = numeric_df.corr()\n",
    "\n",
    "plt.figure(figsize=(10, 10))\n",
    "\n",
    "sns.heatmap(\n",
    "    corr,\n",
    "    annot=True,         # Show correlation values\n",
    "    cmap=\"coolwarm\",    # Color palette\n",
    "    fmt=\".1f\",          # Format numbers to 1\n",
    "    square=True,        # Make cells square\n",
    "    linewidths=1,     # Add thin lines between cells\n",
    "    cbar_kws={\"shrink\": 0.7, \"label\": \"Correlation\"}\n",
    ")\n",
    "\n",
    "plt.title(\"Correlation Heatmap of Numeric Attributes\", fontsize=14, pad=12)\n",
    "plt.tight_layout()\n",
    "plt.show()"
   ]
  },
  {
   "cell_type": "markdown",
   "id": "8c610075",
   "metadata": {},
   "source": [
    "# Data preprocessing and normalization\n",
    "\n",
    "## Probably normalize like this: \n",
    "    - date_died change from date and 9999-99-99 with 1-died 0-alive ?? maybe\n",
    "    - pregnant men don't exist, either leave 97 as NA for column pregnant for men or normalize and set it to 0"
   ]
  }
 ],
 "metadata": {
  "kernelspec": {
   "display_name": "Python 3",
   "language": "python",
   "name": "python3"
  },
  "language_info": {
   "codemirror_mode": {
    "name": "ipython",
    "version": 3
   },
   "file_extension": ".py",
   "mimetype": "text/x-python",
   "name": "python",
   "nbconvert_exporter": "python",
   "pygments_lexer": "ipython3",
   "version": "3.12.4"
  }
 },
 "nbformat": 4,
 "nbformat_minor": 5
}
